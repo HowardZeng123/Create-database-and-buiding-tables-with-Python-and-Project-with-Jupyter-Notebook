{
 "cells": [
  {
   "cell_type": "markdown",
   "id": "4b2b0234-0f35-486d-913b-e6f0340cd91f",
   "metadata": {},
   "source": [
    "<h1>Install psycopg2<h1>"
   ]
  },
  {
   "cell_type": "code",
   "execution_count": 4,
   "id": "9dcf7f18-cfc3-40d6-b4db-88d5404cd667",
   "metadata": {},
   "outputs": [
    {
     "name": "stdout",
     "output_type": "stream",
     "text": [
      "Requirement already satisfied: psycopg2 in d:\\python\\lib\\site-packages (2.9.10)\n"
     ]
    }
   ],
   "source": [
    "!pip install psycopg2"
   ]
  },
  {
   "cell_type": "code",
   "execution_count": 5,
   "id": "75f2cba0-0af7-402f-a1ed-1e734dbd12e1",
   "metadata": {},
   "outputs": [],
   "source": [
    "import psycopg2"
   ]
  },
  {
   "cell_type": "markdown",
   "id": "cd2afa19-4cb0-4cb9-9916-5789cfa19bf4",
   "metadata": {},
   "source": [
    "<h1>Tạo 1 connection tới database<h1>"
   ]
  },
  {
   "cell_type": "code",
   "execution_count": 6,
   "id": "30c26fc5-a1a0-4ccb-bac6-def7c91fae01",
   "metadata": {},
   "outputs": [],
   "source": [
    "try:\n",
    "    conn = psycopg2.connect(\"host=127.0.0.1 dbname=postgres user=postgres password=castle1307\")\n",
    "except psycopg2.Error as e:\n",
    "    print(\"Error:Could not make connection to the database\")\n",
    "    print(e)"
   ]
  },
  {
   "cell_type": "markdown",
   "id": "03abb3c3-ba3c-4b0e-be29-6373503b35ad",
   "metadata": {},
   "source": [
    "<h1>Sử dụng cái connection để lấy cursor that can be used to execute quereis</h1>"
   ]
  },
  {
   "cell_type": "code",
   "execution_count": 7,
   "id": "152faba0-06ef-4bbc-a2a5-6f8a79f95fef",
   "metadata": {},
   "outputs": [],
   "source": [
    "try:\n",
    "    cur = conn.cursor()\n",
    "except psycopg2.Error as e:\n",
    "    print(\"Sorry, Could not get cursor to the db\")\n",
    "    print(e)"
   ]
  },
  {
   "cell_type": "markdown",
   "id": "34feaaa2-2edc-4286-bd97-f71528174a47",
   "metadata": {},
   "source": [
    "<h1>Sử dụng cái autocommit để khỏi phải tự conn.commit sau mỗi command</h1>"
   ]
  },
  {
   "cell_type": "code",
   "execution_count": 8,
   "id": "e241783b-2ba0-43e1-a414-55a50868e968",
   "metadata": {},
   "outputs": [],
   "source": [
    "conn.set_session(autocommit=True)"
   ]
  },
  {
   "cell_type": "markdown",
   "id": "0c9fe7e0-4cdd-4157-bf3f-cecf0f50228a",
   "metadata": {},
   "source": [
    "<h1>Tạo 1 database</h1>"
   ]
  },
  {
   "cell_type": "code",
   "execution_count": 9,
   "id": "ffdb44e8-2e31-4484-8629-a919a21c0947",
   "metadata": {},
   "outputs": [
    {
     "name": "stdout",
     "output_type": "stream",
     "text": [
      "database \"myfirstdb\" already exists\n",
      "\n"
     ]
    }
   ],
   "source": [
    "try:\n",
    "    cur.execute(\"Create database Myfirstdb\")\n",
    "except psycopg2.Error as e:\n",
    "    print(e)"
   ]
  },
  {
   "cell_type": "markdown",
   "id": "26220dd7-d9ba-445e-af78-172fc758f6b4",
   "metadata": {},
   "source": [
    "<h1>Add database name in the content statement.Close connection to the default database,reconnect tới Udacity database,get new cursor</h1>"
   ]
  },
  {
   "cell_type": "code",
   "execution_count": 10,
   "id": "20016f80-53f0-4a9b-bb92-04ac0b7d77d3",
   "metadata": {},
   "outputs": [],
   "source": [
    "try:\n",
    "    conn.close()\n",
    "except psycopg2.Error as e:\n",
    "    print(e)\n",
    "\n",
    "try:\n",
    "    conn  = psycopg2.connect(\"host=127.0.0.1 dbname=myfirstdb user=postgres password=castle1307\")\n",
    "except psycopg2.Error as e:\n",
    "    print(\"Error:Could not make connection to the database\")\n",
    "    print(e)\n",
    "try:\n",
    "    cur = conn.cursor()\n",
    "except psycopg2.Error as e:\n",
    "    print(\"Error! Could not get cursor to the database\")\n",
    "    print(e)\n",
    "    \n",
    "conn.set_session(autocommit=True)"
   ]
  },
  {
   "cell_type": "markdown",
   "id": "70920841-9b5d-4e1c-b960-5da55c3b3763",
   "metadata": {},
   "source": [
    "<h1>Tạo bảng học sinh bao gồm:</h1>\n",
    "<h2>student_id</h2>\n",
    "<h2>name</h2>\n",
    "<h2>age</h2>\n",
    "<h2>gender</h2>\n",
    "<h2>subject</h2>\n",
    "<h2>marks</h2>"
   ]
  },
  {
   "cell_type": "code",
   "execution_count": 11,
   "id": "2e5efabd-0683-48a4-8a1e-4a70ef11845e",
   "metadata": {},
   "outputs": [],
   "source": [
    "try:\n",
    "    cur.execute(\"CREATE TABLE IF NOT EXISTS students (student_id int, name varchar , age int, gender varchar, subject varchar, marks int);\")\n",
    "except psycopg2.Error as e:\n",
    "    print(\"Error creating table\")\n",
    "    print(e)"
   ]
  },
  {
   "cell_type": "markdown",
   "id": "56b081ff-5dd1-47fe-a5e3-fdb10cd88757",
   "metadata": {},
   "source": [
    "<h1>Insert two rows into the table</h1>"
   ]
  },
  {
   "cell_type": "code",
   "execution_count": 13,
   "id": "53b02f40-9c99-4928-97b0-11651892e188",
   "metadata": {},
   "outputs": [],
   "source": [
    "try:\n",
    "    cur.execute(\"INSERT INTO students (student_id, name, age, gender, subject, marks) \\\n",
    "                 VALUES (%s,%s,%s,%s,%s,%s)\",\\\n",
    "                (1,\"Hao\",21,\"Male\",\"Python\",100))\n",
    "except psycopg2.Error as e:\n",
    "    print(\"Error: Inserting Rows\")\n",
    "    print(e)\n",
    "\n",
    "try:\n",
    "    cur.execute(\"INSERT INTO students (student_id, name, age, gender, subject, marks) \\\n",
    "     VALUES (%s,%s,%s,%s,%s,%s)\",\\\n",
    "    (2,\"Hao1\",23,\"Female\",\"Python\",100))\n",
    "except psycopg2.Error as e:\n",
    "    print(\"Error: Inserting Rows\")\n",
    "    print(e)"
   ]
  },
  {
   "cell_type": "markdown",
   "id": "d32fa4d7-2c02-4e98-8555-7fca75721b01",
   "metadata": {},
   "source": [
    "<h1>Validate your data was inserted into the table</h1>"
   ]
  },
  {
   "cell_type": "code",
   "execution_count": 14,
   "id": "66623a05-4424-488a-8cda-7b4cea6760e4",
   "metadata": {},
   "outputs": [
    {
     "name": "stdout",
     "output_type": "stream",
     "text": [
      "(1, 'Hao', 21, 'Male', 'Python', 100)\n",
      "(2, 'Hao1', 23, 'Female', 'Python', 100)\n"
     ]
    }
   ],
   "source": [
    "try:\n",
    "    cur.execute(\"SELECT * FROM students;\")\n",
    "except psycopg2.Error as e:\n",
    "    print(\"Error: select *\")\n",
    "    print(e)\n",
    "\n",
    "row = cur.fetchone()\n",
    "while row:\n",
    "    print(row)\n",
    "    row = cur.fetchone()"
   ]
  },
  {
   "cell_type": "markdown",
   "id": "42905afa-c0e8-4ba3-9c0a-a82f7556666e",
   "metadata": {},
   "source": [
    "<h1>Finally close your cursor and connection</h1>"
   ]
  },
  {
   "cell_type": "code",
   "execution_count": 15,
   "id": "fe3bec77-efe2-48da-af5c-3f92cf3947fb",
   "metadata": {},
   "outputs": [],
   "source": [
    "cur.close()\n",
    "conn.close()"
   ]
  },
  {
   "cell_type": "code",
   "execution_count": null,
   "id": "50bcc620-1e9b-4021-8e7b-834568a8bfc3",
   "metadata": {},
   "outputs": [],
   "source": []
  },
  {
   "cell_type": "code",
   "execution_count": null,
   "id": "cb8e1708-5b11-4313-ab65-613f0783d6e0",
   "metadata": {},
   "outputs": [],
   "source": []
  }
 ],
 "metadata": {
  "kernelspec": {
   "display_name": "Python 3 (ipykernel)",
   "language": "python",
   "name": "python3"
  },
  "language_info": {
   "codemirror_mode": {
    "name": "ipython",
    "version": 3
   },
   "file_extension": ".py",
   "mimetype": "text/x-python",
   "name": "python",
   "nbconvert_exporter": "python",
   "pygments_lexer": "ipython3",
   "version": "3.13.2"
  }
 },
 "nbformat": 4,
 "nbformat_minor": 5
}
